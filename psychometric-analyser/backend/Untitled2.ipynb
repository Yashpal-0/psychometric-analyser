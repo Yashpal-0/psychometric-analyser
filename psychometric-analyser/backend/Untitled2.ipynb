{
 "cells": [
  {
   "cell_type": "code",
   "execution_count": 34,
   "id": "540c4f3d",
   "metadata": {},
   "outputs": [],
   "source": [
    "from selenium import webdriver\n",
    "from selenium.webdriver.chrome.options import Options\n",
    "from selenium.webdriver.chrome.service import Service\n",
    "from webdriver_manager.chrome import ChromeDriverManager"
   ]
  },
  {
   "cell_type": "code",
   "execution_count": 35,
   "id": "e905229d",
   "metadata": {},
   "outputs": [],
   "source": [
    "options = Options()\n",
    "# options.add_argument('--headless')\n",
    "# options.add_argument('--no-sandbox')\n",
    "options.add_argument('--disable-dev-shm-usage')\n",
    "driver = webdriver.Chrome(service=Service(ChromeDriverManager().install()), options=options)\n",
    "driver.get(\"https://twitter.com/login\")\n",
    "driver.implicitly_wait(5)\n",
    "username = driver.find_element('xpath', '//input[@autocomplete=\"username\"]')\n",
    "username.send_keys('Yash_0_')\n",
    "button = driver.find_element('xpath', '//div[@class=\"css-18t94o4 css-1dbjc4n r-sdzlij r-1phboty r-rs99b7 r-ywje51 r-usiww2 r-2yi16 r-1qi8awa r-1ny4l3l r-ymttw5 r-o7ynqc r-6416eg r-lrvibr r-13qz1uu\"]')\n",
    "button.click()\n",
    "password = driver.find_element('xpath', '//input[@autocomplete=\"current-password\"]')\n",
    "password.send_keys('9838286214')\n",
    "driver.implicitly_wait(5)\n",
    "login_button = driver.find_element('xpath', '//div[@class=\"css-18t94o4 css-1dbjc4n r-1sw30gj r-sdzlij r-1phboty r-rs99b7 r-19yznuf r-64el8z r-1ny4l3l r-1dye5f7 r-o7ynqc r-6416eg r-lrvibr\"]')\n",
    "\n",
    "login_button.click()"
   ]
  },
  {
   "cell_type": "code",
   "execution_count": 36,
   "id": "2adf8b64",
   "metadata": {},
   "outputs": [],
   "source": [
    "driver.get(\"https://twitter.com/shobweet\")\n",
    "driver.implicitly_wait(5)"
   ]
  },
  {
   "cell_type": "code",
   "execution_count": 42,
   "id": "38f4d9f3",
   "metadata": {},
   "outputs": [],
   "source": [
    "articles = driver.find_elements('xpath', '//div[@data-testid=\"tweetText\"]')"
   ]
  },
  {
   "cell_type": "code",
   "execution_count": 43,
   "id": "6684f7cc",
   "metadata": {},
   "outputs": [
    {
     "name": "stdout",
     "output_type": "stream",
     "text": [
      "The world has changed in the last 5 days. What's next and importantly what does it mean for India? Join us as the experts discuss the most defining geo political event of the year.\n",
      "\n",
      "Join us for a captivating discussion on Oct 12, 2023, at 8:30 PM in Rishihood University's 8th Twitter Spaces event. \n",
      "\n",
      "@AdityaRajKaul @ElizaR24 @shobweet @SahilAgg92 @chitti_1729 @PranitaVishwak2 \n",
      "\n",
      "At \n",
      "@RishihoodUni\n",
      " our foundation course \"Understanding India\" is pivotal. We recently invited Author \n",
      "@ArjunSKadian\n",
      " to delve into \"Haryana as the Cradle of Indian Civilization.\" Knowing our past is crucial for shaping our identity. #UnderstandingIndia\n",
      "\n",
      "In a world moving towards Western universalism, this course serves as a safeguard for our cultural identity. It's interdisciplinary, covering history, sociology, economics, and political science for a holistic view.\n",
      "#CulturalIdentity #InterdisciplinaryLearning\n",
      "\n",
      "As a university focused on social impact, \"Understanding India\" equips students to be empathetic leaders and effective change-makers. Join us in this journey to explore the multifaceted gem that is India.\n",
      "#SocialImpact #Leadership\n",
      "\n",
      "Thank You Jigar Bhai for the kind words. You have been an active contributor to our journey since Vision India Foundation. The admiration is mutual. Looking forward to crossing more milestones together\n",
      "\n",
      "कल तक़रीबन २ वर्ष बाद, फिर एक बार @RishihoodUni ऋषिहुड यूनिवर्सिटी जाना हुआ।\n",
      "\n",
      "२०१४ में स्थापित Vision India Foundation के\n",
      "२०१५ के प्रथम Policy Boot Camp से प्रारंभ हुआ यह ऋणानुबंध\n",
      "उनके हर प्रवास और प्रयास में शगुन के लिए रखे जाते “नींबू-मिर्च” की तरह मुझे निरंतर जोड़े रखता है।…\n",
      "\n",
      "This is in a nutshell the rising India story and the aspirations of Indians. Despite the struggles, if we put our will together, we can make a mark on the global stage. Well done Ram Babu, we are proud of you \n",
      "\n",
      "#WATCH | Hangzhou Asian Games: On clinching a bronze medal in the 35 km mixed relay race walk, Ram Babu says, \"...My childhood was filled with struggle... I come from a very backward area... It was my mother's dream that no matter how we are living today, our son should have a…\n",
      "\n",
      "We recently hosted our annual residency of the Board of Founders. What are our thoughts on the future of education? Some reflections from the discussions:\n",
      "\n",
      "Education is an area where every stakeholder associated with it wants change, yet change is so difficult.\n",
      "\n",
      "Much of it is the…\n",
      "\n",
      "Nurturing tomorrow's impact leaders today\n",
      "\n",
      "Spotlight on Leadership Colloquium at Rishihood University\n",
      "\n",
      "At Rishihood, we're committed to nurturing tomorrow's impact leaders. Our unique Leadership Colloquium course connects undergraduates with leaders from diverse fields, broadening their horizons and enriching their…\n",
      "\n",
      "'Rishihood' is not just a name for us. A rigorous thought process has gone behind building the institution to live up to its name. We are now putting the bricks in place - one by one. \n",
      "@SahilAgg92\n",
      " lays out our thoughts here in brief. #ApproachingRishihood\n",
      "\n",
      "'How'? That is the quintessential question. I try to explain the how of @RishihoodUni in 10 minutes:\n",
      "\n",
      "What if we could talk the rishis of the past?\n",
      "\n",
      "On the 130th anniversary of Vivekananda’s historic Chicago speech, Rishihood University we proudly launch VivekanandaAI.\n",
      "\n",
      "In the beta phase, we're making his wisdom accessible in an interactive and immersive format.\n",
      "\n",
      "What to Expect:…\n",
      "\n",
      "Explore the timeless teachings of Swami Vivekananda through https://vivekananda.ai, an AI-powered chatbot developed by the amazing folks at \n",
      "@RishihoodUni\n",
      "!\n",
      "\n",
      "Congratulations \n",
      "@SahilAgg92\n",
      " @shobweet\n",
      " for this initiative!\n",
      "\n"
     ]
    }
   ],
   "source": [
    "for a in articles:\n",
    "    print(a.text)\n",
    "    print()"
   ]
  },
  {
   "cell_type": "code",
   "execution_count": null,
   "id": "6f3ce5aa",
   "metadata": {},
   "outputs": [],
   "source": []
  }
 ],
 "metadata": {
  "kernelspec": {
   "display_name": "Python 3 (ipykernel)",
   "language": "python",
   "name": "python3"
  },
  "language_info": {
   "codemirror_mode": {
    "name": "ipython",
    "version": 3
   },
   "file_extension": ".py",
   "mimetype": "text/x-python",
   "name": "python",
   "nbconvert_exporter": "python",
   "pygments_lexer": "ipython3",
   "version": "3.11.4"
  }
 },
 "nbformat": 4,
 "nbformat_minor": 5
}
